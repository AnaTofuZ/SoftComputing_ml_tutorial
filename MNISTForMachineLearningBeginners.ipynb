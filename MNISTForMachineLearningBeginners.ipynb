{
 "cells": [
  {
   "cell_type": "markdown",
   "metadata": {},
   "source": [
    "# KerasによるMNIST機械学習チュートリアル(Beginners)"
   ]
  },
  {
   "cell_type": "code",
   "execution_count": 1,
   "metadata": {},
   "outputs": [
    {
     "name": "stderr",
     "output_type": "stream",
     "text": [
      "Using TensorFlow backend.\n"
     ]
    }
   ],
   "source": [
    "import keras"
   ]
  },
  {
   "cell_type": "markdown",
   "metadata": {},
   "source": [
    "## モジュールのインポート"
   ]
  },
  {
   "cell_type": "code",
   "execution_count": 2,
   "metadata": {
    "collapsed": true
   },
   "outputs": [],
   "source": [
    "# coding=utf8\n",
    "import numpy as np\n",
    "np.random.seed(98) # シード値の保持\n",
    "\n",
    "from keras.models import Sequential\n",
    "from keras.layers import Dense"
   ]
  },
  {
   "cell_type": "markdown",
   "metadata": {},
   "source": [
    "## モデルの構築"
   ]
  },
  {
   "cell_type": "code",
   "execution_count": 3,
   "metadata": {
    "collapsed": true
   },
   "outputs": [],
   "source": [
    "model = Sequential()\n",
    "model.add(Dense(512, activation=\"relu\", input_shape=(784,)))\n",
    "model.add(Dense(256, activation=\"relu\", input_shape=(512,)))\n",
    "model.add(Dense(10, activation=\"softmax\"))"
   ]
  },
  {
   "cell_type": "code",
   "execution_count": 4,
   "metadata": {},
   "outputs": [
    {
     "name": "stdout",
     "output_type": "stream",
     "text": [
      "_________________________________________________________________\n",
      "Layer (type)                 Output Shape              Param #   \n",
      "=================================================================\n",
      "dense_1 (Dense)              (None, 512)               401920    \n",
      "_________________________________________________________________\n",
      "dense_2 (Dense)              (None, 256)               131328    \n",
      "_________________________________________________________________\n",
      "dense_3 (Dense)              (None, 10)                2570      \n",
      "=================================================================\n",
      "Total params: 535,818\n",
      "Trainable params: 535,818\n",
      "Non-trainable params: 0\n",
      "_________________________________________________________________\n"
     ]
    }
   ],
   "source": [
    "model.summary()"
   ]
  },
  {
   "cell_type": "markdown",
   "metadata": {},
   "source": [
    "## モデルの可視化"
   ]
  },
  {
   "cell_type": "code",
   "execution_count": 5,
   "metadata": {},
   "outputs": [
    {
     "data": {
      "image/svg+xml": [
       "<svg height=\"296pt\" viewBox=\"0.00 0.00 314.56 296.00\" width=\"315pt\" xmlns=\"http://www.w3.org/2000/svg\" xmlns:xlink=\"http://www.w3.org/1999/xlink\">\n",
       "<g class=\"graph\" id=\"graph0\" transform=\"scale(1 1) rotate(0) translate(4 292)\">\n",
       "<title>G</title>\n",
       "<polygon fill=\"white\" points=\"-4,4 -4,-292 310.556,-292 310.556,4 -4,4\" stroke=\"none\"/>\n",
       "<!-- 4792878808 -->\n",
       "<g class=\"node\" id=\"node1\"><title>4792878808</title>\n",
       "<polygon fill=\"none\" points=\"0,-243.5 0,-287.5 306.556,-287.5 306.556,-243.5 0,-243.5\" stroke=\"black\"/>\n",
       "<text font-family=\"Times,serif\" font-size=\"14.00\" text-anchor=\"middle\" x=\"83.6191\" y=\"-261.3\">dense_1_input: InputLayer</text>\n",
       "<polyline fill=\"none\" points=\"167.238,-243.5 167.238,-287.5 \" stroke=\"black\"/>\n",
       "<text font-family=\"Times,serif\" font-size=\"14.00\" text-anchor=\"middle\" x=\"195.073\" y=\"-272.3\">input:</text>\n",
       "<polyline fill=\"none\" points=\"167.238,-265.5 222.907,-265.5 \" stroke=\"black\"/>\n",
       "<text font-family=\"Times,serif\" font-size=\"14.00\" text-anchor=\"middle\" x=\"195.073\" y=\"-250.3\">output:</text>\n",
       "<polyline fill=\"none\" points=\"222.907,-243.5 222.907,-287.5 \" stroke=\"black\"/>\n",
       "<text font-family=\"Times,serif\" font-size=\"14.00\" text-anchor=\"middle\" x=\"264.731\" y=\"-272.3\">(None, 784)</text>\n",
       "<polyline fill=\"none\" points=\"222.907,-265.5 306.556,-265.5 \" stroke=\"black\"/>\n",
       "<text font-family=\"Times,serif\" font-size=\"14.00\" text-anchor=\"middle\" x=\"264.731\" y=\"-250.3\">(None, 784)</text>\n",
       "</g>\n",
       "<!-- 4792878304 -->\n",
       "<g class=\"node\" id=\"node2\"><title>4792878304</title>\n",
       "<polygon fill=\"none\" points=\"31.4932,-162.5 31.4932,-206.5 275.062,-206.5 275.062,-162.5 31.4932,-162.5\" stroke=\"black\"/>\n",
       "<text font-family=\"Times,serif\" font-size=\"14.00\" text-anchor=\"middle\" x=\"83.6191\" y=\"-180.3\">dense_1: Dense</text>\n",
       "<polyline fill=\"none\" points=\"135.745,-162.5 135.745,-206.5 \" stroke=\"black\"/>\n",
       "<text font-family=\"Times,serif\" font-size=\"14.00\" text-anchor=\"middle\" x=\"163.58\" y=\"-191.3\">input:</text>\n",
       "<polyline fill=\"none\" points=\"135.745,-184.5 191.414,-184.5 \" stroke=\"black\"/>\n",
       "<text font-family=\"Times,serif\" font-size=\"14.00\" text-anchor=\"middle\" x=\"163.58\" y=\"-169.3\">output:</text>\n",
       "<polyline fill=\"none\" points=\"191.414,-162.5 191.414,-206.5 \" stroke=\"black\"/>\n",
       "<text font-family=\"Times,serif\" font-size=\"14.00\" text-anchor=\"middle\" x=\"233.238\" y=\"-191.3\">(None, 784)</text>\n",
       "<polyline fill=\"none\" points=\"191.414,-184.5 275.062,-184.5 \" stroke=\"black\"/>\n",
       "<text font-family=\"Times,serif\" font-size=\"14.00\" text-anchor=\"middle\" x=\"233.238\" y=\"-169.3\">(None, 512)</text>\n",
       "</g>\n",
       "<!-- 4792878808&#45;&gt;4792878304 -->\n",
       "<g class=\"edge\" id=\"edge1\"><title>4792878808-&gt;4792878304</title>\n",
       "<path d=\"M153.278,-243.329C153.278,-235.183 153.278,-225.699 153.278,-216.797\" fill=\"none\" stroke=\"black\"/>\n",
       "<polygon fill=\"black\" points=\"156.778,-216.729 153.278,-206.729 149.778,-216.729 156.778,-216.729\" stroke=\"black\"/>\n",
       "</g>\n",
       "<!-- 4792878416 -->\n",
       "<g class=\"node\" id=\"node3\"><title>4792878416</title>\n",
       "<polygon fill=\"none\" points=\"31.4932,-81.5 31.4932,-125.5 275.062,-125.5 275.062,-81.5 31.4932,-81.5\" stroke=\"black\"/>\n",
       "<text font-family=\"Times,serif\" font-size=\"14.00\" text-anchor=\"middle\" x=\"83.6191\" y=\"-99.3\">dense_2: Dense</text>\n",
       "<polyline fill=\"none\" points=\"135.745,-81.5 135.745,-125.5 \" stroke=\"black\"/>\n",
       "<text font-family=\"Times,serif\" font-size=\"14.00\" text-anchor=\"middle\" x=\"163.58\" y=\"-110.3\">input:</text>\n",
       "<polyline fill=\"none\" points=\"135.745,-103.5 191.414,-103.5 \" stroke=\"black\"/>\n",
       "<text font-family=\"Times,serif\" font-size=\"14.00\" text-anchor=\"middle\" x=\"163.58\" y=\"-88.3\">output:</text>\n",
       "<polyline fill=\"none\" points=\"191.414,-81.5 191.414,-125.5 \" stroke=\"black\"/>\n",
       "<text font-family=\"Times,serif\" font-size=\"14.00\" text-anchor=\"middle\" x=\"233.238\" y=\"-110.3\">(None, 512)</text>\n",
       "<polyline fill=\"none\" points=\"191.414,-103.5 275.062,-103.5 \" stroke=\"black\"/>\n",
       "<text font-family=\"Times,serif\" font-size=\"14.00\" text-anchor=\"middle\" x=\"233.238\" y=\"-88.3\">(None, 256)</text>\n",
       "</g>\n",
       "<!-- 4792878304&#45;&gt;4792878416 -->\n",
       "<g class=\"edge\" id=\"edge2\"><title>4792878304-&gt;4792878416</title>\n",
       "<path d=\"M153.278,-162.329C153.278,-154.183 153.278,-144.699 153.278,-135.797\" fill=\"none\" stroke=\"black\"/>\n",
       "<polygon fill=\"black\" points=\"156.778,-135.729 153.278,-125.729 149.778,-135.729 156.778,-135.729\" stroke=\"black\"/>\n",
       "</g>\n",
       "<!-- 4792879928 -->\n",
       "<g class=\"node\" id=\"node4\"><title>4792879928</title>\n",
       "<polygon fill=\"none\" points=\"31.4932,-0.5 31.4932,-44.5 275.062,-44.5 275.062,-0.5 31.4932,-0.5\" stroke=\"black\"/>\n",
       "<text font-family=\"Times,serif\" font-size=\"14.00\" text-anchor=\"middle\" x=\"83.6191\" y=\"-18.3\">dense_3: Dense</text>\n",
       "<polyline fill=\"none\" points=\"135.745,-0.5 135.745,-44.5 \" stroke=\"black\"/>\n",
       "<text font-family=\"Times,serif\" font-size=\"14.00\" text-anchor=\"middle\" x=\"163.58\" y=\"-29.3\">input:</text>\n",
       "<polyline fill=\"none\" points=\"135.745,-22.5 191.414,-22.5 \" stroke=\"black\"/>\n",
       "<text font-family=\"Times,serif\" font-size=\"14.00\" text-anchor=\"middle\" x=\"163.58\" y=\"-7.3\">output:</text>\n",
       "<polyline fill=\"none\" points=\"191.414,-0.5 191.414,-44.5 \" stroke=\"black\"/>\n",
       "<text font-family=\"Times,serif\" font-size=\"14.00\" text-anchor=\"middle\" x=\"233.238\" y=\"-29.3\">(None, 256)</text>\n",
       "<polyline fill=\"none\" points=\"191.414,-22.5 275.062,-22.5 \" stroke=\"black\"/>\n",
       "<text font-family=\"Times,serif\" font-size=\"14.00\" text-anchor=\"middle\" x=\"233.238\" y=\"-7.3\">(None, 10)</text>\n",
       "</g>\n",
       "<!-- 4792878416&#45;&gt;4792879928 -->\n",
       "<g class=\"edge\" id=\"edge3\"><title>4792878416-&gt;4792879928</title>\n",
       "<path d=\"M153.278,-81.3294C153.278,-73.1826 153.278,-63.6991 153.278,-54.7971\" fill=\"none\" stroke=\"black\"/>\n",
       "<polygon fill=\"black\" points=\"156.778,-54.729 153.278,-44.729 149.778,-54.729 156.778,-54.729\" stroke=\"black\"/>\n",
       "</g>\n",
       "</g>\n",
       "</svg>"
      ],
      "text/plain": [
       "<IPython.core.display.SVG object>"
      ]
     },
     "execution_count": 5,
     "metadata": {},
     "output_type": "execute_result"
    }
   ],
   "source": [
    "import pydot\n",
    "from IPython.display import SVG\n",
    "from keras.utils.vis_utils import model_to_dot\n",
    "\n",
    "# モデルの可視化\n",
    "SVG(model_to_dot(model, show_shapes=True).create(prog='dot', format='svg'))"
   ]
  },
  {
   "cell_type": "markdown",
   "metadata": {},
   "source": [
    "## モデルのコンパイル"
   ]
  },
  {
   "cell_type": "code",
   "execution_count": 6,
   "metadata": {
    "collapsed": true
   },
   "outputs": [],
   "source": [
    "from keras.optimizers import SGD # 最適化手法(確率的勾配降下法)\n",
    "\n",
    "# モデルのコンパイル\n",
    "model.compile(loss=\"categorical_crossentropy\", # 誤差(損失)関数\n",
    "             optimizer=\"sgd\", # 最適化手法\n",
    "             metrics=['accuracy'] # 評価指標\n",
    "             )"
   ]
  },
  {
   "cell_type": "markdown",
   "metadata": {},
   "source": [
    "## モデルの保存とパラメータの保存"
   ]
  },
  {
   "cell_type": "code",
   "execution_count": 7,
   "metadata": {},
   "outputs": [
    {
     "data": {
      "text/plain": [
       "1602"
      ]
     },
     "execution_count": 7,
     "metadata": {},
     "output_type": "execute_result"
    }
   ],
   "source": [
    "# JSON形式でモデルを保存\n",
    "json_string = model.to_json()\n",
    "open('./keras_mlp.json', 'w').write(json_string)"
   ]
  },
  {
   "cell_type": "code",
   "execution_count": 8,
   "metadata": {
    "collapsed": true
   },
   "outputs": [],
   "source": [
    "#　初期ウエイトの保存\n",
    "model.save_weights('./mnist_mlp_init_weight.hdf5', overwrite=True)"
   ]
  },
  {
   "cell_type": "markdown",
   "metadata": {},
   "source": [
    "## モデルの読み出しとパラメータの呼び出し"
   ]
  },
  {
   "cell_type": "code",
   "execution_count": 9,
   "metadata": {
    "collapsed": true
   },
   "outputs": [],
   "source": [
    "#from keras.models import model_from_json, model_from_yaml"
   ]
  },
  {
   "cell_type": "code",
   "execution_count": 10,
   "metadata": {
    "collapsed": true
   },
   "outputs": [],
   "source": [
    "# JSON形式で保存されたモデルの呼び出し\n",
    "#json_string = open('./keras_mlp.json', 'r').read()\n",
    "#model = model_from_json(json_string)"
   ]
  },
  {
   "cell_type": "code",
   "execution_count": 11,
   "metadata": {
    "collapsed": true
   },
   "outputs": [],
   "source": [
    "#model.load_weights('./mnist_mlp_init_weight.hdf5')"
   ]
  },
  {
   "cell_type": "markdown",
   "metadata": {},
   "source": [
    "## MNISTデータの読み込み"
   ]
  },
  {
   "cell_type": "code",
   "execution_count": 12,
   "metadata": {
    "collapsed": true
   },
   "outputs": [],
   "source": [
    "# MNISTの手書き文字データのインポート\n",
    "from keras.datasets import mnist"
   ]
  },
  {
   "cell_type": "code",
   "execution_count": 13,
   "metadata": {
    "collapsed": true
   },
   "outputs": [],
   "source": [
    "#  Xは画像データ，yは画像データのラベル(0から9)\n",
    "(X_train, y_train), (X_test, y_test) = mnist.load_data()"
   ]
  },
  {
   "cell_type": "code",
   "execution_count": 14,
   "metadata": {},
   "outputs": [
    {
     "data": {
      "text/plain": [
       "(60000, 28, 28)"
      ]
     },
     "execution_count": 14,
     "metadata": {},
     "output_type": "execute_result"
    }
   ],
   "source": [
    "X_train.shape # 60000枚の画像データが28 * 28 ピクセルで準備されている"
   ]
  },
  {
   "cell_type": "code",
   "execution_count": 15,
   "metadata": {},
   "outputs": [
    {
     "data": {
      "text/plain": [
       "(60000,)"
      ]
     },
     "execution_count": 15,
     "metadata": {},
     "output_type": "execute_result"
    }
   ],
   "source": [
    "y_train.shape # 60000個のラベルデータ"
   ]
  },
  {
   "cell_type": "markdown",
   "metadata": {},
   "source": [
    "## MNISTデータの可視化"
   ]
  },
  {
   "cell_type": "code",
   "execution_count": 16,
   "metadata": {
    "collapsed": true
   },
   "outputs": [],
   "source": [
    "# 可視化用ライブラリの読み込み\n",
    "%matplotlib inline\n",
    "import matplotlib.pyplot as plt"
   ]
  },
  {
   "cell_type": "code",
   "execution_count": 17,
   "metadata": {},
   "outputs": [
    {
     "data": {
      "image/png": "[encoded data removed]",
      "text/plain": [
       "<matplotlib.figure.Figure at 0x121f5fc88>"
      ]
     },
     "metadata": {},
     "output_type": "display_data"
    }
   ],
   "source": [
    "# 入力データを可視化（最初の５文字）\n",
    "fig, ax = plt.subplots(1, 5)\n",
    "\n",
    "for ii in range(5):\n",
    "    ax[ii].imshow(X_train[ii], cmap='gray')\n",
    "    ax[ii].axis('off')"
   ]
  },
  {
   "cell_type": "markdown",
   "metadata": {},
   "source": [
    "## データの前処理"
   ]
  },
  {
   "cell_type": "code",
   "execution_count": 18,
   "metadata": {
    "collapsed": true
   },
   "outputs": [],
   "source": [
    "X_train = X_train.reshape(60000, 784)\n",
    "X_test = X_test.reshape(10000, 784)\n",
    "X_train = X_train.astype('float32') / 255.\n",
    "X_test = X_test.astype('float32') / 255."
   ]
  },
  {
   "cell_type": "code",
   "execution_count": 19,
   "metadata": {
    "collapsed": true
   },
   "outputs": [],
   "source": [
    "from keras.utils import np_utils"
   ]
  },
  {
   "cell_type": "code",
   "execution_count": 20,
   "metadata": {
    "collapsed": true
   },
   "outputs": [],
   "source": [
    "nb_classes = 10 # 正解のパターン数"
   ]
  },
  {
   "cell_type": "code",
   "execution_count": 21,
   "metadata": {
    "collapsed": true
   },
   "outputs": [],
   "source": [
    "# クラスベクトルをバイナリクラスの行列に変換する\n",
    "Y_train = np_utils.to_categorical(y_train, nb_classes)\n",
    "Y_test = np_utils.to_categorical(y_test, nb_classes)"
   ]
  },
  {
   "cell_type": "markdown",
   "metadata": {},
   "source": [
    "## 学習\n",
    "+ tensorboard --logdir=/tmp/keras_mlp\n",
    "+ http://0.0.0.0:6006"
   ]
  },
  {
   "cell_type": "code",
   "execution_count": 22,
   "metadata": {
    "collapsed": true
   },
   "outputs": [],
   "source": [
    "# TensorBoardで学習の進捗状況をみる\n",
    "tb_cb = keras.callbacks.TensorBoard(log_dir='/tmp/keras_mlp', histogram_freq=1)\n",
    "\n",
    "# バリデーションロスが下がれば、エポックごとにモデルを保存\n",
    "cp_cb = keras.callbacks.ModelCheckpoint(filepath='./mnist_mlp_best_weight.hdf5', \n",
    "                                        monitor='val_loss', verbose=1, save_best_only=True, mode='auto')\n",
    "\n",
    "# バリデーションロスが５エポック連続で上がったら、ランを打ち切る\n",
    "es_cb = keras.callbacks.EarlyStopping(monitor='val_loss', patience=5, verbose=0, mode='auto')\n",
    "\n",
    "cbks = [tb_cb, cp_cb, es_cb]"
   ]
  },
  {
   "cell_type": "code",
   "execution_count": 23,
   "metadata": {
    "collapsed": true
   },
   "outputs": [],
   "source": [
    "import time"
   ]
  },
  {
   "cell_type": "code",
   "execution_count": 24,
   "metadata": {},
   "outputs": [
    {
     "name": "stderr",
     "output_type": "stream",
     "text": [
      "/Users/Kakutofu/.pyenv/versions/anaconda3-4.3.1/envs/keras/lib/python3.6/site-packages/keras/models.py:837: UserWarning: The `nb_epoch` argument in `fit` has been renamed `epochs`.\n",
      "  warnings.warn('The `nb_epoch` argument in `fit` '\n"
     ]
    },
    {
     "name": "stdout",
     "output_type": "stream",
     "text": [
      "INFO:tensorflow:Summary name dense_1/kernel:0 is illegal; using dense_1/kernel_0 instead.\n",
      "INFO:tensorflow:Summary name dense_1/bias:0 is illegal; using dense_1/bias_0 instead.\n",
      "INFO:tensorflow:Summary name dense_2/kernel:0 is illegal; using dense_2/kernel_0 instead.\n",
      "INFO:tensorflow:Summary name dense_2/bias:0 is illegal; using dense_2/bias_0 instead.\n",
      "INFO:tensorflow:Summary name dense_3/kernel:0 is illegal; using dense_3/kernel_0 instead.\n",
      "INFO:tensorflow:Summary name dense_3/bias:0 is illegal; using dense_3/bias_0 instead.\n",
      "Epoch 00000: val_loss improved from inf to 0.51430, saving model to ./mnist_mlp_best_weight.hdf5\n",
      "Epoch 00001: val_loss improved from 0.51430 to 0.36934, saving model to ./mnist_mlp_best_weight.hdf5\n",
      "Epoch 00002: val_loss improved from 0.36934 to 0.32011, saving model to ./mnist_mlp_best_weight.hdf5\n",
      "Epoch 00003: val_loss improved from 0.32011 to 0.29054, saving model to ./mnist_mlp_best_weight.hdf5\n",
      "Epoch 00004: val_loss improved from 0.29054 to 0.27175, saving model to ./mnist_mlp_best_weight.hdf5\n",
      "Epoch 00005: val_loss improved from 0.27175 to 0.25510, saving model to ./mnist_mlp_best_weight.hdf5\n",
      "Epoch 00006: val_loss improved from 0.25510 to 0.24323, saving model to ./mnist_mlp_best_weight.hdf5\n",
      "Epoch 00007: val_loss improved from 0.24323 to 0.23427, saving model to ./mnist_mlp_best_weight.hdf5\n",
      "Epoch 00008: val_loss improved from 0.23427 to 0.22157, saving model to ./mnist_mlp_best_weight.hdf5\n",
      "Epoch 00009: val_loss improved from 0.22157 to 0.21333, saving model to ./mnist_mlp_best_weight.hdf5\n",
      "Epoch 00010: val_loss improved from 0.21333 to 0.20386, saving model to ./mnist_mlp_best_weight.hdf5\n",
      "Epoch 00011: val_loss improved from 0.20386 to 0.19486, saving model to ./mnist_mlp_best_weight.hdf5\n",
      "Epoch 00012: val_loss improved from 0.19486 to 0.18963, saving model to ./mnist_mlp_best_weight.hdf5\n",
      "Epoch 00013: val_loss improved from 0.18963 to 0.18207, saving model to ./mnist_mlp_best_weight.hdf5\n",
      "Epoch 00014: val_loss improved from 0.18207 to 0.17539, saving model to ./mnist_mlp_best_weight.hdf5\n",
      "Epoch 00015: val_loss improved from 0.17539 to 0.16958, saving model to ./mnist_mlp_best_weight.hdf5\n",
      "Epoch 00016: val_loss improved from 0.16958 to 0.16414, saving model to ./mnist_mlp_best_weight.hdf5\n",
      "Epoch 00017: val_loss improved from 0.16414 to 0.15918, saving model to ./mnist_mlp_best_weight.hdf5\n",
      "Epoch 00018: val_loss improved from 0.15918 to 0.15508, saving model to ./mnist_mlp_best_weight.hdf5\n",
      "Epoch 00019: val_loss improved from 0.15508 to 0.15288, saving model to ./mnist_mlp_best_weight.hdf5\n",
      "Execution time: 128.73 [sec]\n"
     ]
    }
   ],
   "source": [
    "tic = time.time()\n",
    "\n",
    "# 学習を実行\n",
    "# 学習途中の損失関数の値などはhistory.historyに保存される。\n",
    "history = model.fit(X_train, Y_train,\n",
    "                    batch_size=128,  # 128個ランダムに得る\n",
    "                    nb_epoch=20, # 試行回数\n",
    "                    verbose=0,\n",
    "                    validation_data=(X_test, Y_test),\n",
    "                    callbacks=cbks)\n",
    "\n",
    "toc = time.time()\n",
    "\n",
    "# 学習にかかった時間を表示\n",
    "print(\"Execution time: {0:.2f} [sec]\".format(toc - tic))"
   ]
  },
  {
   "cell_type": "markdown",
   "metadata": {},
   "source": [
    "## ベストパラメータの呼び出し"
   ]
  },
  {
   "cell_type": "code",
   "execution_count": 25,
   "metadata": {
    "collapsed": true
   },
   "outputs": [],
   "source": [
    "model.load_weights('./mnist_mlp_best_weight.hdf5')"
   ]
  },
  {
   "cell_type": "markdown",
   "metadata": {},
   "source": [
    "## 学習結果の評価"
   ]
  },
  {
   "cell_type": "code",
   "execution_count": 26,
   "metadata": {},
   "outputs": [
    {
     "name": "stdout",
     "output_type": "stream",
     "text": [
      "Test score: 0.15288130416\n",
      "Test accuracy: 0.9555\n"
     ]
    }
   ],
   "source": [
    "# テストデータに対する評価値\n",
    "score = model.evaluate(X_test, Y_test, verbose=0)\n",
    "print('Test score:', score[0]) # 損失関数の値\n",
    "print('Test accuracy:', score[1]) # 精度(94%弱)"
   ]
  },
  {
   "cell_type": "code",
   "execution_count": 27,
   "metadata": {},
   "outputs": [
    {
     "data": {
      "text/plain": [
       "<matplotlib.legend.Legend at 0x1280c9438>"
      ]
     },
     "execution_count": 27,
     "metadata": {},
     "output_type": "execute_result"
    },
    {
     "data": {
      "image/png": "[encoded data removed]",
      "text/plain": [
       "<matplotlib.figure.Figure at 0x127d2b128>"
      ]
     },
     "metadata": {},
     "output_type": "display_data"
    }
   ],
   "source": [
    "# 学習曲線\n",
    "fig, ax = plt.subplots(1, 2, figsize=(12, 6))\n",
    "ax[0].set_title('Training performance (Loss)')\n",
    "ax[0].plot(history.epoch, history.history['loss'], label='loss')\n",
    "ax[0].plot(history.epoch, history.history['val_loss'], label='val_loss')\n",
    "ax[0].set(xlabel='Epoch', ylabel='Loss')\n",
    "ax[0].legend()\n",
    "\n",
    "ax[1].set_title('Training performance (Accuracy)')\n",
    "ax[1].plot(history.epoch, history.history['acc'], label='acc')\n",
    "ax[1].plot(history.epoch, history.history['val_acc'], label='val_acc')\n",
    "ax[1].set(xlabel='Epoch', ylabel='Accuracy')\n",
    "ax[1].legend(loc='best')"
   ]
  },
  {
   "cell_type": "markdown",
   "metadata": {},
   "source": [
    "## 予測の可視化"
   ]
  },
  {
   "cell_type": "code",
   "execution_count": 28,
   "metadata": {
    "collapsed": true
   },
   "outputs": [],
   "source": [
    "# 予測値\n",
    "Y_test_pred = model.predict(X_test)"
   ]
  },
  {
   "cell_type": "code",
   "execution_count": 29,
   "metadata": {},
   "outputs": [
    {
     "data": {
      "image/png": "[encoded data removed]",
      "text/plain": [
       "<matplotlib.figure.Figure at 0x121f5f940>"
      ]
     },
     "metadata": {},
     "output_type": "display_data"
    }
   ],
   "source": [
    "# テストデータの可視化\n",
    "fig, ax = plt.subplots(1, 10, figsize=(10, 2))\n",
    "\n",
    "for ii in range(10):\n",
    "    ax[ii].imshow(X_test[ii].reshape(28, 28), cmap='gray') #iiの値+nでn番目以降のテストデータを出力する．\n",
    "    ax[ii].axis('off')"
   ]
  },
  {
   "cell_type": "code",
   "execution_count": 30,
   "metadata": {},
   "outputs": [
    {
     "data": {
      "text/plain": [
       "<matplotlib.image.AxesImage at 0x120d0f9b0>"
      ]
     },
     "execution_count": 30,
     "metadata": {},
     "output_type": "execute_result"
    },
    {
     "data": {
      "image/png": "[encoded data removed]",
      "text/plain": [
       "<matplotlib.figure.Figure at 0x127d19eb8>"
      ]
     },
     "metadata": {},
     "output_type": "display_data"
    }
   ],
   "source": [
    "# 予測の可視化\n",
    "plt.imshow(Y_test_pred[:10], cmap='gray', interpolation='nearest', vmin=0, vmax=1) #Y_test_predの範囲を帰ることで予測の場所を変更できる"
   ]
  },
  {
   "cell_type": "code",
   "execution_count": null,
   "metadata": {
    "collapsed": true
   },
   "outputs": [],
   "source": []
  }
 ],
 "metadata": {
  "anaconda-cloud": {},
  "kernelspec": {
   "display_name": "Python 3",
   "language": "python",
   "name": "python3"
  },
  "language_info": {
   "codemirror_mode": {
    "name": "ipython",
    "version": 3
   },
   "file_extension": ".py",
   "mimetype": "text/x-python",
   "name": "python",
   "nbconvert_exporter": "python",
   "pygments_lexer": "ipython3",
   "version": "3.6.1"
  }
 },
 "nbformat": 4,
 "nbformat_minor": 1
}
